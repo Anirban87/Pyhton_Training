{
 "cells": [
  {
   "cell_type": "markdown",
   "metadata": {},
   "source": [
    "![RSA](RSA.png)"
   ]
  },
  {
   "cell_type": "markdown",
   "metadata": {},
   "source": [
    "# Python Fundamentals\n",
    "\n",
    "This is not a comprehensive Python tutorial but instead is intended to highlight the parts of the language that will be most important for us. You can download python form the [python.org](https://docs.python.org/3/library/index.html). I recommend installing Anaconda distribution, which already includes most of the libraries that are need to do data science.\n",
    "\n",
    "### Keep in mind\n",
    " * Python is very slow when written badly.\n",
    " * Translate C code into Python is often bad idea.\n",
    " * Pythonic solution sometimes result in drastic performance improvement.\n",
    " * Utilize librarie's capabilities more than you skill.\n",
    " * Everything is Class and Object."
   ]
  },
  {
   "cell_type": "markdown",
   "metadata": {},
   "source": [
    "##  1. Basic Syntax (Indentation, Quotation, Assignmnets) "
   ]
  },
  {
   "cell_type": "markdown",
   "metadata": {},
   "source": [
    "### 1.1 Indentation"
   ]
  },
  {
   "cell_type": "markdown",
   "metadata": {},
   "source": [
    "Indentation is used to specify a block of code that is supposed to perform a specific task. It makes the structure more readable and neat. The amount of indentation is up to an individual, but it must be consistent throughout that block."
   ]
  },
  {
   "cell_type": "markdown",
   "metadata": {},
   "source": [
    "**Generally four whitespaces are used for indentation and is preferred over tabs.** Blow are two examples where one is written with indentation and one without it. Though both the fucntions perform the simillar fucntion but the identation makes it more clean and easy to understand."
   ]
  },
  {
   "cell_type": "code",
   "execution_count": null,
   "metadata": {},
   "outputs": [],
   "source": [
    "var = 1\n",
    "if var:\n",
    "    print(\"Makes this better !\")\n",
    "else:\n",
    "    print(\"I won't execute\")"
   ]
  },
  {
   "cell_type": "code",
   "execution_count": null,
   "metadata": {},
   "outputs": [],
   "source": [
    "var = 0 \n",
    "if var: print(\"Make things better !\") \n",
    "else: (\"I wont't execute !\")"
   ]
  },
  {
   "cell_type": "markdown",
   "metadata": {},
   "source": [
    "### 1.2 Quotation "
   ]
  },
  {
   "cell_type": "markdown",
   "metadata": {},
   "source": [
    "Quotation means to specify a specific set of characters intended not to have a numeric value. In python we use either a single quote ' or a double quote \". Every open quote should have its closing quote else python treats it as a complete block of characters till it finds its complementary quote."
   ]
  },
  {
   "cell_type": "markdown",
   "metadata": {},
   "source": [
    "As far as language syntax is concerned, there is no such difference between single and double quotation. Both the representations can be used interchangeably. Below are some examples"
   ]
  },
  {
   "cell_type": "code",
   "execution_count": null,
   "metadata": {},
   "outputs": [],
   "source": [
    "print (\"Indian Actuarial\")"
   ]
  },
  {
   "cell_type": "markdown",
   "metadata": {},
   "source": [
    "**Using both the quotation in a single statement:**"
   ]
  },
  {
   "cell_type": "code",
   "execution_count": null,
   "metadata": {},
   "outputs": [],
   "source": [
    "print (\"'Hello World'\")"
   ]
  },
  {
   "cell_type": "markdown",
   "metadata": {},
   "source": [
    "**Incomplete quotes example:**"
   ]
  },
  {
   "cell_type": "code",
   "execution_count": null,
   "metadata": {},
   "outputs": [],
   "source": [
    "print(\"Hello')"
   ]
  },
  {
   "cell_type": "markdown",
   "metadata": {},
   "source": [
    "As the pyhton interpreter is not able to find a complementry quote to \", it would throw an error."
   ]
  },
  {
   "cell_type": "markdown",
   "metadata": {},
   "source": [
    "### 1.3 Assignments"
   ]
  },
  {
   "cell_type": "markdown",
   "metadata": {},
   "source": [
    "Assigns the value to an object. Assigns values from right side operands to left side operand. This statement provides an expression and a variable name which will be used to label the value of the expression.\n",
    "\n",
    "```variable = expression```"
   ]
  },
  {
   "cell_type": "code",
   "execution_count": null,
   "metadata": {},
   "outputs": [],
   "source": [
    "x = 2 + 4\n",
    "print(x)\n",
    "\n",
    "y = \"Python\"\n",
    "print(y)\n",
    "\n",
    "z = 5\n",
    "\n",
    "ans = z + x\n",
    "print(ans)"
   ]
  },
  {
   "cell_type": "markdown",
   "metadata": {},
   "source": [
    "**Multiple assignment example:**"
   ]
  },
  {
   "cell_type": "code",
   "execution_count": null,
   "metadata": {},
   "outputs": [],
   "source": [
    "a = b = c = 1\n",
    "print(a)"
   ]
  },
  {
   "cell_type": "markdown",
   "metadata": {},
   "source": [
    "Python allows you to assign a single value to several variables simultaneously. At the same time you can assign multiple objects to multiple variables"
   ]
  },
  {
   "cell_type": "code",
   "execution_count": null,
   "metadata": {},
   "outputs": [],
   "source": [
    "a,b,c = 1,1.099999999,\"john\""
   ]
  },
  {
   "cell_type": "markdown",
   "metadata": {},
   "source": [
    "## 2. Variables Types"
   ]
  },
  {
   "cell_type": "markdown",
   "metadata": {},
   "source": [
    "Before moving on to the types lets know what are variables. They are reserved memory spaces to store values. This means when you create a variable of a particular type it assigns a specific amount of memory to hold the value assigned to it. By assigning different data types to variables, you can store integers, decimals or characters in these variables."
   ]
  },
  {
   "cell_type": "markdown",
   "metadata": {},
   "source": [
    "An advantage of python variables is that they need to be declared of a particular type prior assigning it a value. It is dynamic in nature and depends on the type of argument (expression) in the RHS of the assignment operator."
   ]
  },
  {
   "cell_type": "markdown",
   "metadata": {},
   "source": [
    "### 2.1 Numbers"
   ]
  },
  {
   "cell_type": "markdown",
   "metadata": {},
   "source": [
    "**Numbers can be of 4 types:**\n",
    "- Int (signed integers)\n",
    "- Long (Long Integers)\n",
    "- Float (floating point real values)\n",
    "- Complex (complex numbers)"
   ]
  },
  {
   "cell_type": "code",
   "execution_count": null,
   "metadata": {},
   "outputs": [],
   "source": [
    "# int \n",
    "x = 1\n",
    "\n",
    "#Long\n",
    "x = 999999999999\n",
    "\n",
    "#Float\n",
    "x = 1.0000009\n",
    "\n",
    "#Complex (where putting a 'j' after the numeric makes it an imaginary number)\n",
    "x = 3.14j\n",
    "\n",
    "print(x)"
   ]
  },
  {
   "cell_type": "markdown",
   "metadata": {},
   "source": [
    "### 2.2 String"
   ]
  },
  {
   "cell_type": "markdown",
   "metadata": {},
   "source": [
    "Strings in Python are identified as a contiguous set of characters represented in the quotation marks. Python allows for either pairs of single or double quotes. \n",
    "\n",
    "Subsets of strings can be taken using the slice operator ([ ] and [:] ) with indexes starting at 0 in the beginning of the string and working their way from -1 at the end. The plus (+) sign is the string concatenation operator and the asterisk (*) is the repetition operator. Below are some examples : "
   ]
  },
  {
   "cell_type": "code",
   "execution_count": null,
   "metadata": {},
   "outputs": [],
   "source": [
    "string = 'Indian Actuarial'\n",
    "\n",
    "print (string)          # Prints complete string\n",
    "print (string[0])       # Prints first character of the string\n",
    "print (string[2:5])     # Prints characters starting from 3rd to 5th\n",
    "print (string[2:])      # Prints string starting from 3rd character\n",
    "print (string * 2)      # Prints string two times\n",
    "print (string + \"RSA\")  # Prints concatenated string"
   ]
  },
  {
   "cell_type": "markdown",
   "metadata": {},
   "source": [
    "### 2.3 List \n",
    "\n",
    "List are the most versatile objects used in python as it can allow items of different data types binded together into one single object. A list contains items seperated by commas and encoled within square brackets. \n",
    "\n",
    "Similar to strings, The values stored in a list can be accessed using the slice operator ([ ] and [:]) with indexes starting at 0 in the beginning of the list and working their way to end -1. The plus (+) sign is the list concatenation operator, and the asterisk (*) is the repetition operator"
   ]
  },
  {
   "cell_type": "code",
   "execution_count": null,
   "metadata": {},
   "outputs": [],
   "source": [
    "list =  ['abcd', 786 , 2.23, 'john', 70.2 ]\n",
    "tinylist = [123, 'john']\n",
    "\n",
    "print (list)            # Prints complete list\n",
    "print (list[0])         # Prints first element of the list\n",
    "print (list[1:3])       # Prints elements starting from 2nd till 3rd \n",
    "print (list[2:])        # Prints elements starting from 3rd element\n",
    "print (tinylist * 2)    # Prints list two times\n",
    "print (list + tinylist) # Prints concatenated lists"
   ]
  },
  {
   "cell_type": "markdown",
   "metadata": {},
   "source": [
    "### 2.4 Tuples\n",
    "\n",
    "A tuple is much like a python list. The difference between them is a tuple is enclosed within paranthesis ( ) and a tuple cannot be changed later on. Here are some exmaples."
   ]
  },
  {
   "cell_type": "code",
   "execution_count": null,
   "metadata": {},
   "outputs": [],
   "source": [
    "tuple1 = ('physics', 'chemistry', 1997, 2000)\n",
    "tupple2 = (1, 2, 3, 4, 5, 6, 7 )\n",
    "print (\"tup1[0]: \", tup1[0])\n",
    "print (\"tup2[1:5]: \", tup2[1:5])"
   ]
  },
  {
   "cell_type": "markdown",
   "metadata": {},
   "source": [
    "**Editing Tuple:**\n",
    "\n",
    "In Python Tuples elements cannot be updated or individual elements deleted. It is immutable in nature. \n",
    "On the other hand, tuples can be added together.\n",
    "\n",
    "To remove a tuple explicitly add the keyword 'del' before it. Tuples respond to the + and * operators much like strings; they mean concatenation and repetition here too, except that the result is a new tuple, not a string."
   ]
  },
  {
   "cell_type": "markdown",
   "metadata": {},
   "source": [
    "### 2.5 Dictionary"
   ]
  },
  {
   "cell_type": "markdown",
   "metadata": {},
   "source": [
    "Python's dictionaries are kind of hash table type. They work like associative arrays or hashes found in Perl and consist of key-value pairs. A dictionary key can be almost any Python type, but are usually numbers or strings. Values, on the other hand, can be any arbitrary Python object.\n",
    "\n",
    "Dictionaries are enclosed by curly braces ({ }) and values can be assigned and accessed using square braces ([]). Also Dictionaries have no concept of order among elements. It is incorrect to say that the elements are \"out of order\"; they are simply unordered."
   ]
  },
  {
   "cell_type": "code",
   "execution_count": 15,
   "metadata": {},
   "outputs": [
    {
     "name": "stdout",
     "output_type": "stream",
     "text": [
      "This is one\n",
      "This is two\n",
      "{'name': 'john', 'code': 6734, 'dept': 'sales'}\n",
      "dict_keys(['name', 'code', 'dept'])\n",
      "dict_values(['john', 6734, 'sales'])\n"
     ]
    }
   ],
   "source": [
    "dict = {}\n",
    "dict['one'] = \"This is one\"\n",
    "dict[2]     = \"This is two\"\n",
    "\n",
    "tinydict = {'name': 'john','code':6734, 'dept': 'sales'}\n",
    "\n",
    "\n",
    "print (dict['one'])       # Prints value for 'one' key\n",
    "print (dict[2])           # Prints value for 2 key\n",
    "print (tinydict)          # Prints complete dictionary\n",
    "print (tinydict.keys())   # Prints all the keys\n",
    "print (tinydict.values()) # Prints all the values"
   ]
  },
  {
   "cell_type": "markdown",
   "metadata": {},
   "source": [
    "## 3. Basic Operators"
   ]
  },
  {
   "cell_type": "markdown",
   "metadata": {},
   "source": [
    "In python operators are used to manipulate the value of operands. Some of the operaters supported by python are."
   ]
  },
  {
   "cell_type": "markdown",
   "metadata": {},
   "source": [
    "### 3.1 Arithmetic Operators"
   ]
  },
  {
   "cell_type": "code",
   "execution_count": null,
   "metadata": {},
   "outputs": [],
   "source": [
    "x = 2 + 3 #Addition\n",
    "print (x)\n",
    "\n",
    "y = 3 - 1 #Substraction\n",
    "print (y)\n",
    "\n",
    "z = 2 * 4 #Multiplication\n",
    "print (z)\n",
    "\n",
    "a = z / y #Division\n",
    "print (a)\n",
    "\n",
    "mod = z % y #Modulus (remiander)\n",
    "print (mod)\n",
    "\n",
    "ex = x ** y #Exponent\n",
    "print (ex)\n",
    "\n",
    "f_d = x // y #Floor Division\n",
    "print (f_d)\n"
   ]
  },
  {
   "cell_type": "markdown",
   "metadata": {},
   "source": [
    "### 3.2 Comparison Operator"
   ]
  },
  {
   "cell_type": "markdown",
   "metadata": {},
   "source": [
    "These operators compare the values on either sides of them and decide the relation among them. They are also called Relational operators."
   ]
  },
  {
   "cell_type": "code",
   "execution_count": null,
   "metadata": {},
   "outputs": [],
   "source": [
    "#Assign values to variables\n",
    "x = 20\n",
    "y = 10\n",
    "\n",
    "print(x == y) #if both are equal then result is true else false\n",
    "\n",
    "print(x != y) #if the operands are not equal to each other then true else false\n",
    "\n",
    "print(x > y) #greater then operator, if LHS is greater then RHS then true else false\n",
    "\n",
    "print(x < y) #less then operator, if LHS is less then RHS then true else false\n",
    "\n",
    "print(x >= y) #greater then equal to operator, to check if LHS is greater then or equal to RHS then true else false\n",
    "\n",
    "print(x <= y) #less then equal to operator, to check if LHS is lesser then or equal to RHS then true else false\n"
   ]
  },
  {
   "cell_type": "markdown",
   "metadata": {},
   "source": [
    "### 3.3 Assignment Operators"
   ]
  },
  {
   "cell_type": "code",
   "execution_count": null,
   "metadata": {},
   "outputs": [],
   "source": [
    "#Assign values to variables (Assignment operator)\n",
    "x = 20\n",
    "y = 10\n",
    "\n",
    "y += x   # It adds right operand to the left operand and assign the result to left operand\n",
    "print(y)\n",
    "\n",
    "y -= x   # It substracts right operand to the left operand and assign the result to left operand\n",
    "print(y)\n",
    "\n",
    "y *= x # It multiplies right operand with the left operand and assign the result to left operand\n",
    "print(y)\n",
    "\n",
    "y /= x # It divides left operand with the right operand and assign the result to left operand\n",
    "print(x)\n",
    "\n",
    "y **= x # Performs exponential (power) calculation on operators and assign value to the left operand\n",
    "print(y)\n",
    "\n",
    "y //= x \n",
    "print(x)"
   ]
  },
  {
   "cell_type": "markdown",
   "metadata": {},
   "source": [
    "### 3.4 Bitwise Operators"
   ]
  },
  {
   "cell_type": "markdown",
   "metadata": {},
   "source": [
    "Bitwise operator works on bits and performs bit by bit operation. Assume if `a = 60 (0011 1100)` and `b = 13 (0000 1101)`. Now in binary format they will be as follows:\n",
    "\n",
    "- `a&b = 0000 1100` (Logical AND)\n",
    "- `a|b = 0011 1101` (Logical OR)\n",
    "- `a^b = 0011 0001` (XOR operation)\n",
    "- `~a = 1100 0011` (It is unary and has the effect of 'flipping' bits)\n",
    "- `a << 2 = 240 (1111 0000)` (The left operands value is moved left by the number of bits specified by the right operand)\n",
    "- `a >> 2 = 15 (0000 1111)` (The left operands value is moved right by the number of bits specified by the right operand)"
   ]
  },
  {
   "cell_type": "markdown",
   "metadata": {},
   "source": [
    "### 3.5 Logical Operators"
   ]
  },
  {
   "cell_type": "markdown",
   "metadata": {},
   "source": [
    "- `and/Logical AND`, if both operands are true then true else false\n",
    "- `or/Logical OR`, if any one is true then true else false\n",
    "- `not/Logical NOT`, to reverse the logical state of its operand"
   ]
  },
  {
   "cell_type": "code",
   "execution_count": null,
   "metadata": {},
   "outputs": [],
   "source": [
    "a = 1 \n",
    "b = 0\n",
    "\n",
    "print(a & b)\n",
    "print(a | b)"
   ]
  },
  {
   "cell_type": "markdown",
   "metadata": {},
   "source": [
    "### 3.6 Membership Operators"
   ]
  },
  {
   "cell_type": "markdown",
   "metadata": {},
   "source": [
    "Python’s membership operators test for membership in a sequence, such as strings, lists, or tuples\n",
    "\n",
    "- In Operater\n",
    "- not In Operater"
   ]
  },
  {
   "cell_type": "code",
   "execution_count": 19,
   "metadata": {},
   "outputs": [],
   "source": [
    "x = \"R\"\n",
    "y = \"RSA\"\n",
    "z = \"USA\""
   ]
  },
  {
   "cell_type": "code",
   "execution_count": 20,
   "metadata": {},
   "outputs": [
    {
     "name": "stdout",
     "output_type": "stream",
     "text": [
      "Found\n"
     ]
    }
   ],
   "source": [
    "if x in y:\n",
    "    print('Found')"
   ]
  },
  {
   "cell_type": "code",
   "execution_count": 21,
   "metadata": {},
   "outputs": [
    {
     "name": "stdout",
     "output_type": "stream",
     "text": [
      "Not Found\n"
     ]
    }
   ],
   "source": [
    "if x not in z:\n",
    "    print('Not Found')"
   ]
  },
  {
   "cell_type": "markdown",
   "metadata": {},
   "source": [
    "## 4. Decision Making"
   ]
  },
  {
   "cell_type": "markdown",
   "metadata": {},
   "source": [
    "Decision making is anticipation of conditions occurring while execution of the program and specifying actions taken according to the conditions.\n",
    "\n",
    "Decision structures evaluate multiple expressions which produce TRUE or FALSE as outcome. You need to determine which action to take and which statements to execute if outcome is TRUE or FALSE otherwise."
   ]
  },
  {
   "cell_type": "code",
   "execution_count": null,
   "metadata": {},
   "outputs": [],
   "source": [
    "check = \"RSA\"\n",
    "\n",
    "if check == \"RSA\":\n",
    "    print(\"True\")\n",
    "else: \n",
    "    print(\"False\")"
   ]
  },
  {
   "cell_type": "code",
   "execution_count": null,
   "metadata": {},
   "outputs": [],
   "source": [
    "# conditional if - else ladder  \n",
    "if False:\n",
    "    print(\"Wrong Condition !\")\n",
    "elif False:\n",
    "    print(\"Again Wrong Condition !\")\n",
    "else:\n",
    "    print(\"Like Seriously !\")"
   ]
  },
  {
   "cell_type": "markdown",
   "metadata": {},
   "source": [
    "## 5. Loops"
   ]
  },
  {
   "cell_type": "markdown",
   "metadata": {},
   "source": [
    "A loop statement allows us to execute a statement or group of statements multiple times."
   ]
  },
  {
   "cell_type": "code",
   "execution_count": null,
   "metadata": {},
   "outputs": [],
   "source": [
    "for i in ['One','Two','Three']:\n",
    "    print(i)"
   ]
  },
  {
   "cell_type": "markdown",
   "metadata": {},
   "source": [
    "Statement(s) may be a single statement or a block of statements. The condition may be any expression, and true is any non-zero value. The loop iterates while the condition is true."
   ]
  },
  {
   "cell_type": "code",
   "execution_count": null,
   "metadata": {},
   "outputs": [],
   "source": [
    "count = 5\n",
    "while (count > 0):\n",
    "    print('Start In:', count)\n",
    "    count = count - 1"
   ]
  },
  {
   "cell_type": "markdown",
   "metadata": {},
   "source": [
    "Python programming language allows to use one loop inside another loop."
   ]
  },
  {
   "cell_type": "code",
   "execution_count": null,
   "metadata": {},
   "outputs": [],
   "source": [
    "for i in ['One','Two','Three']:\n",
    "    for j in ['*','#']:\n",
    "        print(i,j)"
   ]
  }
 ],
 "metadata": {
  "kernelspec": {
   "display_name": "Python 3",
   "language": "python",
   "name": "python3"
  },
  "language_info": {
   "codemirror_mode": {
    "name": "ipython",
    "version": 3
   },
   "file_extension": ".py",
   "mimetype": "text/x-python",
   "name": "python",
   "nbconvert_exporter": "python",
   "pygments_lexer": "ipython3",
   "version": "3.7.2"
  }
 },
 "nbformat": 4,
 "nbformat_minor": 2
}

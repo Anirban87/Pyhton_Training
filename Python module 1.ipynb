{
 "cells": [
  {
   "cell_type": "markdown",
   "metadata": {},
   "source": [
    "# 1. Basic Syntax (indentation, Quotation, assignmnets) "
   ]
  },
  {
   "cell_type": "markdown",
   "metadata": {},
   "source": [
    "   ##   Basic Syntax fo Writing Code"
   ]
  },
  {
   "cell_type": "markdown",
   "metadata": {},
   "source": [
    "### 1.1 Indentation"
   ]
  },
  {
   "cell_type": "markdown",
   "metadata": {},
   "source": [
    "Indentation is used to specify a block of code that is supposed to perform a specific task. It makes the structure more readable and neat. The amount of indentation is up to an individual, but it must be consistent throughout that block."
   ]
  },
  {
   "cell_type": "markdown",
   "metadata": {},
   "source": [
    "**Generally four whitespaces are used for indentation and is preferred over tabs.** Blow are two examples where one is written with indentation and one without it. Though both the fucntions perform the simillar fucntion but the identation makes it more clean and easy to understand."
   ]
  },
  {
   "cell_type": "code",
   "execution_count": null,
   "metadata": {},
   "outputs": [],
   "source": [
    "var = 1\n",
    "if var:\n",
    "    print(\"Makes this better !\")\n",
    "else:\n",
    "    print(\"I won't execute\")\n",
    "    "
   ]
  },
  {
   "cell_type": "code",
   "execution_count": null,
   "metadata": {},
   "outputs": [],
   "source": [
    "var = 1 \n",
    "if var: print(\"Make things better !\") \n",
    "else: (\"I wont't execute !\")"
   ]
  },
  {
   "cell_type": "markdown",
   "metadata": {},
   "source": [
    "### 1.2 Quotation "
   ]
  },
  {
   "cell_type": "markdown",
   "metadata": {},
   "source": [
    "Quotation means to specify a specific set of characters intended not to have a numeric value. In python we use either a single quote ' or a double quote \". Every open quote should have its closing quote else python treats it as a complete block of characters till it finds its complementary quote."
   ]
  },
  {
   "cell_type": "markdown",
   "metadata": {},
   "source": [
    "As far as language syntax is concerned, there is no such difference between single and double quotation. Both the representations can be used interchangeably. Below are some examples"
   ]
  },
  {
   "cell_type": "code",
   "execution_count": null,
   "metadata": {},
   "outputs": [],
   "source": [
    "print (\"Indian Actuarial\")"
   ]
  },
  {
   "cell_type": "code",
   "execution_count": null,
   "metadata": {},
   "outputs": [],
   "source": [
    "print ('Indian Actuarial')"
   ]
  },
  {
   "cell_type": "markdown",
   "metadata": {},
   "source": [
    "#### 1.2.1 Using both the quotation in a single statement"
   ]
  },
  {
   "cell_type": "code",
   "execution_count": null,
   "metadata": {},
   "outputs": [],
   "source": [
    "print (\"'Hello World'\")"
   ]
  },
  {
   "cell_type": "markdown",
   "metadata": {},
   "source": [
    "#### 1.2.2 incomplete quotes example"
   ]
  },
  {
   "cell_type": "code",
   "execution_count": null,
   "metadata": {},
   "outputs": [],
   "source": [
    "print(\"Hello)"
   ]
  },
  {
   "cell_type": "markdown",
   "metadata": {},
   "source": [
    "As the pyhton interpreter is not able to find a complementry quote to \", it would throw an error."
   ]
  },
  {
   "cell_type": "markdown",
   "metadata": {},
   "source": [
    "### 1.3 Assignments"
   ]
  },
  {
   "cell_type": "markdown",
   "metadata": {},
   "source": [
    "Assigns the value to an object. Assigns values from right side operands to left side operand. This statement provides an expression and a variable name which will be used to label the value of the expression.\n",
    "\n",
    "variable = expression\n",
    "\n",
    "Below are some examples"
   ]
  },
  {
   "cell_type": "code",
   "execution_count": null,
   "metadata": {},
   "outputs": [],
   "source": [
    "x = 2 + 4\n",
    "print(x)\n",
    "\n",
    "y = \"Python\"\n",
    "print(y)\n",
    "\n",
    "z = 5\n",
    "\n",
    "ans = z + x\n",
    "print(ans)"
   ]
  },
  {
   "cell_type": "markdown",
   "metadata": {},
   "source": [
    "#### 1.3.1 Multiple assignment example"
   ]
  },
  {
   "cell_type": "code",
   "execution_count": null,
   "metadata": {},
   "outputs": [],
   "source": [
    "a = b = c = 1\n",
    "print(a)"
   ]
  },
  {
   "cell_type": "markdown",
   "metadata": {},
   "source": [
    "Python allows you to assign a single value to several variables simultaneously. At the same time you can assign multiple objects to multiple variables"
   ]
  },
  {
   "cell_type": "code",
   "execution_count": null,
   "metadata": {},
   "outputs": [],
   "source": [
    "a,b,c = 1,1.099999999,\"john\""
   ]
  },
  {
   "cell_type": "markdown",
   "metadata": {},
   "source": [
    "# 2. Variables Types"
   ]
  },
  {
   "cell_type": "markdown",
   "metadata": {},
   "source": [
    "Before moving on to the types lets know what are variables. They are reserved memory spaces to store values. This means when you create a variable of a particular type it assigns a specific amount of memory to hold the value assigned to it. By assigning different data types to variables, you can store integers, decimals or characters in these variables."
   ]
  },
  {
   "cell_type": "markdown",
   "metadata": {},
   "source": [
    "An advantage of python variables is that they need to be declared of a particular type prior assigning it a value. It is dynamic in nature and depends on the type of argument (expression) in the RHS of the assignment operator."
   ]
  },
  {
   "cell_type": "markdown",
   "metadata": {},
   "source": [
    "In python there are 5 standard data types: \n",
    "1. Numbers\n",
    "2. String\n",
    "3. List\n",
    "4. Tuple\n",
    "5. Dictionary\n"
   ]
  },
  {
   "cell_type": "markdown",
   "metadata": {},
   "source": [
    "## 2.1 Numbers"
   ]
  },
  {
   "cell_type": "markdown",
   "metadata": {},
   "source": [
    "Numbers can be of 4 types\n",
    "1. Int (signed integers)\n",
    "2. Long (Long Integers)\n",
    "3. Float (floating point real values)\n",
    "4. Complex (complex numbers)\n",
    "\n",
    "Lets see them all as an example"
   ]
  },
  {
   "cell_type": "code",
   "execution_count": null,
   "metadata": {},
   "outputs": [],
   "source": [
    "# int \n",
    "x = 1\n",
    "\n",
    "#Long\n",
    "x = 999999999999\n",
    "\n",
    "#Float\n",
    "x = 1.0000009\n",
    "\n",
    "#Complex (where putting a 'j' after the numeric makes it an imaginary number)\n",
    "x = 3.14j\n",
    "\n",
    "print(x)"
   ]
  },
  {
   "cell_type": "markdown",
   "metadata": {},
   "source": [
    "## 2.2 String\n"
   ]
  },
  {
   "cell_type": "markdown",
   "metadata": {},
   "source": [
    "Strings in Python are identified as a contiguous set of characters represented in the quotation marks. Python allows for either pairs of single or double quotes. "
   ]
  },
  {
   "cell_type": "markdown",
   "metadata": {},
   "source": [
    "Subsets of strings can be taken using the slice operator ([ ] and [:] ) with indexes starting at 0 in the beginning of the string and working their way from -1 at the end. The plus (+) sign is the string concatenation operator and the asterisk (*) is the repetition operator. Below are some examples : \n"
   ]
  },
  {
   "cell_type": "code",
   "execution_count": null,
   "metadata": {},
   "outputs": [],
   "source": [
    "str = 'Indian Actuarial'\n",
    "\n",
    "print (str)          # Prints complete string\n",
    "print (str[0])       # Prints first character of the string\n",
    "print (str[2:5])     # Prints characters starting from 3rd to 5th\n",
    "print (str[2:])      # Prints string starting from 3rd character\n",
    "print (str * 2)      # Prints string two times\n",
    "print (str + \"RSA\")  # Prints concatenated string"
   ]
  },
  {
   "cell_type": "markdown",
   "metadata": {},
   "source": [
    "## 2.3 Python List "
   ]
  },
  {
   "cell_type": "markdown",
   "metadata": {},
   "source": [
    "List are the most versatile objects used in python as it can allow items of different data types binded together into one single object. A list contains items seperated by commas and encoled within square brackets. \n",
    "\n",
    "Similar to strings, The values stored in a list can be accessed using the slice operator ([ ] and [:]) with indexes starting at 0 in the beginning of the list and working their way to end -1. The plus (+) sign is the list concatenation operator, and the asterisk (*) is the repetition operator"
   ]
  },
  {
   "cell_type": "code",
   "execution_count": null,
   "metadata": {},
   "outputs": [],
   "source": [
    "list =  ['abcd', 786 , 2.23, 'john', 70.2 ]\n",
    "tinylist = [123, 'john']\n",
    "\n",
    "print (list)            # Prints complete list\n",
    "print (list[0])         # Prints first element of the list\n",
    "print (list[1:3])       # Prints elements starting from 2nd till 3rd \n",
    "print (list[2:])        # Prints elements starting from 3rd element\n",
    "print (tinylist * 2)    # Prints list two times\n",
    "print (list + tinylist) # Prints concatenated lists"
   ]
  },
  {
   "cell_type": "code",
   "execution_count": null,
   "metadata": {},
   "outputs": [],
   "source": []
  }
 ],
 "metadata": {
  "kernelspec": {
   "display_name": "Python 3",
   "language": "python",
   "name": "python3"
  },
  "language_info": {
   "codemirror_mode": {
    "name": "ipython",
    "version": 3
   },
   "file_extension": ".py",
   "mimetype": "text/x-python",
   "name": "python",
   "nbconvert_exporter": "python",
   "pygments_lexer": "ipython3",
   "version": "3.7.0"
  }
 },
 "nbformat": 4,
 "nbformat_minor": 2
}
